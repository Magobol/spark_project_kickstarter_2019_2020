{
 "cells": [
  {
   "cell_type": "code",
   "execution_count": 150,
   "metadata": {},
   "outputs": [
    {
     "data": {
      "text/plain": [
       "import org.apache.spark.SparkConf\n",
       "import org.apache.spark.sql.{DataFrame, SparkSession, functions}\n",
       "conf: org.apache.spark.SparkConf = org.apache.spark.SparkConf@c15c311\n",
       "spark: org.apache.spark.sql.SparkSession = org.apache.spark.sql.SparkSession@64a23c0c\n"
      ]
     },
     "execution_count": 150,
     "metadata": {},
     "output_type": "execute_result"
    }
   ],
   "source": [
    "import org.apache.spark.SparkConf\n",
    "import org.apache.spark.sql.{DataFrame, SparkSession,functions}\n",
    "\n",
    "val conf = {new SparkConf().setAll(Map(\"spark.scheduler.mode\" -> \"FIFO\",\n",
    "      \"spark.speculation\" -> \"false\",\n",
    "      \"spark.reducer.maxSizeInFlight\" -> \"48m\",\n",
    "      \"spark.serializer\" -> \"org.apache.spark.serializer.KryoSerializer\",\n",
    "      \"spark.kryoserializer.buffer.max\" -> \"1g\",\n",
    "      \"spark.shuffle.file.buffer\" -> \"32k\",\n",
    "      \"spark.default.parallelism\" -> \"12\",\n",
    "      \"spark.sql.shuffle.partitions\" -> \"12\"\n",
    "    ))}\n",
    "\n",
    "    // Initialisation du SparkSession qui est le point d'entrée vers Spark SQL (donne accès aux dataframes, aux RDD,\n",
    "    // création de tables temporaires, etc., et donc aux mécanismes de distribution des calculs)\n",
    "val spark = {SparkSession\n",
    "  .builder\n",
    "  .config(conf)\n",
    "  .appName(\"TP Spark : Preprocessor\")\n",
    "  .getOrCreate}"
   ]
  },
  {
   "cell_type": "code",
   "execution_count": 130,
   "metadata": {},
   "outputs": [
    {
     "name": "stdout",
     "output_type": "stream",
     "text": [
      "Nombre de lignes : 108129\n",
      "Nombre de colonnes : 14\n",
      "root\n",
      " |-- project_id: string (nullable = true)\n",
      " |-- name: string (nullable = true)\n",
      " |-- desc: string (nullable = true)\n",
      " |-- goal: string (nullable = true)\n",
      " |-- keywords: string (nullable = true)\n",
      " |-- disable_communication: string (nullable = true)\n",
      " |-- country: string (nullable = true)\n",
      " |-- currency: string (nullable = true)\n",
      " |-- deadline: string (nullable = true)\n",
      " |-- state_changed_at: string (nullable = true)\n",
      " |-- created_at: string (nullable = true)\n",
      " |-- launched_at: string (nullable = true)\n",
      " |-- backers_count: integer (nullable = true)\n",
      " |-- final_status: integer (nullable = true)\n",
      "\n",
      "\n",
      "\n",
      "Hello World ! from Preprocessor\n",
      "\n",
      "\n",
      "root\n",
      " |-- project_id: string (nullable = true)\n",
      " |-- name: string (nullable = true)\n",
      " |-- desc: string (nullable = true)\n",
      " |-- goal: integer (nullable = true)\n",
      " |-- keywords: string (nullable = true)\n",
      " |-- disable_communication: string (nullable = true)\n",
      " |-- country: string (nullable = true)\n",
      " |-- currency: string (nullable = true)\n",
      " |-- deadline: integer (nullable = true)\n",
      " |-- state_changed_at: integer (nullable = true)\n",
      " |-- created_at: integer (nullable = true)\n",
      " |-- launched_at: integer (nullable = true)\n",
      " |-- backers_count: integer (nullable = true)\n",
      " |-- final_status: integer (nullable = true)\n",
      "\n"
     ]
    },
    {
     "data": {
      "text/plain": [
       "df: org.apache.spark.sql.DataFrame = [project_id: string, name: string ... 12 more fields]\n",
       "dfCasted: org.apache.spark.sql.DataFrame = [project_id: string, name: string ... 12 more fields]\n"
      ]
     },
     "execution_count": 130,
     "metadata": {},
     "output_type": "execute_result"
    }
   ],
   "source": [
    "val df:DataFrame = spark\n",
    "      .read\n",
    "      .option(\"header\", true) \n",
    "      .option(\"inferSchema\", \"true\") // pour inférer le type de chaque colonne (Int, String, etc.)\n",
    "      .csv(\"/home/jorge/Documents/Cours/Spark/RepoAdotTPs/data/train_clean.csv\")\n",
    "\n",
    "println(s\"Nombre de lignes : ${df.count}\")\n",
    "println(s\"Nombre de colonnes : ${df.columns.length}\")\n",
    "df.columns\n",
    "df.printSchema()\n",
    "println(\"\\n\")\n",
    "println(\"Hello World ! from Preprocessor\")\n",
    "println(\"\\n\")\n",
    "\n",
    "// val dfcasted:DataFrame = df\n",
    "//     .withColumn(\"goal\",$\"goal\".cast(\"Int\"))\n",
    "//     .withColumn(\"deadline\",$\"deadline\".cast(\"Int\"))\n",
    "//     .withColumn(\"state_changed_at\",$\"state_changed_at\".cast(\"Int\"))\n",
    "//     .withColumn(\"created_at\",$\"created_at\".cast(\"Int\"))\n",
    "//     .withColumn(\"launched_at\", $\"launched_at\".cast(\"Int\"))\n",
    "//     .withColumn(\"backers_count\", $\"backers_count\".cast(\"Int\"))\n",
    "//     .withColumn(\"final_status\", $\"final_status\".cast(\"Int\"))\n",
    "\n",
    "val dfCasted: DataFrame = df\n",
    "  .withColumn(\"goal\", $\"goal\".cast(\"Int\"))\n",
    "  .withColumn(\"deadline\" , $\"deadline\".cast(\"Int\"))\n",
    "  .withColumn(\"state_changed_at\", $\"state_changed_at\".cast(\"Int\"))\n",
    "  .withColumn(\"created_at\", $\"created_at\".cast(\"Int\"))\n",
    "  .withColumn(\"launched_at\", $\"launched_at\".cast(\"Int\"))\n",
    "  .withColumn(\"backers_count\", $\"backers_count\".cast(\"Int\"))\n",
    "  .withColumn(\"final_status\", $\"final_status\".cast(\"Int\"))\n",
    "\n",
    "dfCasted.printSchema()\n",
    "\n"
   ]
  },
  {
   "cell_type": "code",
   "execution_count": 4,
   "metadata": {},
   "outputs": [
    {
     "name": "stdout",
     "output_type": "stream",
     "text": [
      "+-------+-----------------+-------------------+-------------------+\n",
      "|summary|             goal|      backers_count|       final_status|\n",
      "+-------+-----------------+-------------------+-------------------+\n",
      "|  count|           107615|             108128|             108128|\n",
      "|   mean|36839.03430748502|  6434187.413250962| 1052360.7834973366|\n",
      "| stddev|974215.3015529736|9.324061726649426E7|3.776049940184165E7|\n",
      "|    min|                0|                  0|                  0|\n",
      "|    max|        100000000|         1430423170|         1428977971|\n",
      "+-------+-----------------+-------------------+-------------------+\n",
      "\n"
     ]
    }
   ],
   "source": [
    "dfCasted\n",
    "  .select(\"goal\", \"backers_count\", \"final_status\")\n",
    "  .describe()\n",
    "  .show"
   ]
  },
  {
   "cell_type": "code",
   "execution_count": 9,
   "metadata": {},
   "outputs": [
    {
     "name": "stdout",
     "output_type": "stream",
     "text": [
      "+--------------------+----+-------------+------------+\n",
      "|                name|goal|backers_count|final_status|\n",
      "+--------------------+----+-------------+------------+\n",
      "| drawing for dollars|  20|            3|           1|\n",
      "|Sponsor Dereck Bl...| 300|            2|           0|\n",
      "|       Mr. Squiggles|  30|            0|           0|\n",
      "|Help me write my ...| 500|           18|           1|\n",
      "|Support casting m...|2000|            1|           0|\n",
      "+--------------------+----+-------------+------------+\n",
      "only showing top 5 rows\n",
      "\n",
      "+-------+--------------------+---------------------+--------+\n",
      "|country|            keywords|disable_communication|currency|\n",
      "+-------+--------------------+---------------------+--------+\n",
      "|     US| drawing-for-dollars|                False|     USD|\n",
      "|     US|sponsor-dereck-bl...|                False|     USD|\n",
      "|     US|        mr-squiggles|                False|     USD|\n",
      "|     US|help-me-write-my-...|                False|     USD|\n",
      "|     US|support-casting-m...|                False|     USD|\n",
      "+-------+--------------------+---------------------+--------+\n",
      "only showing top 5 rows\n",
      "\n",
      "+----------+----------------+----------+-----------+\n",
      "|  deadline|state_changed_at|created_at|launched_at|\n",
      "+----------+----------------+----------+-----------+\n",
      "|1241333999|      1241334017|1240600507| 1240602723|\n",
      "|1242429000|      1242432018|1240960224| 1240975592|\n",
      "|1243027560|      1243027818|1242163613| 1242164398|\n",
      "|1243555740|      1243556121|1240963795| 1240966730|\n",
      "|1243769880|      1243770317|1241177914| 1241180541|\n",
      "+----------+----------------+----------+-----------+\n",
      "only showing top 5 rows\n",
      "\n"
     ]
    },
    {
     "data": {
      "text/plain": [
       "n: Int = 5\n"
      ]
     },
     "execution_count": 9,
     "metadata": {},
     "output_type": "execute_result"
    }
   ],
   "source": [
    "val n = 5\n",
    "\n",
    "dfCasted\n",
    "    .select(\"name\",\"goal\", \"backers_count\", \"final_status\")\n",
    "    .show(n)\n",
    "\n",
    "dfCasted\n",
    "    .select(\"country\",\"keywords\",\"disable_communication\",\"currency\")\n",
    "    .show(n)\n",
    "\n",
    "dfCasted\n",
    "    .select(\"deadline\",\"state_changed_at\",\"created_at\",\"launched_at\")\n",
    "    .show(n)"
   ]
  },
  {
   "cell_type": "code",
   "execution_count": 129,
   "metadata": {},
   "outputs": [],
   "source": [
    "// dfCasted.groupBy(\"disable_communication\").count.orderBy($\"count\".desc).show(100)\n",
    "// dfCasted.groupBy(\"disable_communication\").count.orderBy($\"count\".desc).show\n",
    "// dfCasted.groupBy(\"country\").count.orderBy($\"count\".desc).show(100)\n",
    "// dfClean.groupBy(\"currency\").count.orderBy($\"count\".desc).show(100)\n",
    "// dfCasted.select(\"deadline\").dropDuplicates.show()\n",
    "\n",
    "// (dfCasted.select(\"deadline\").dropDuplicates.count()\n",
    "//  ,dfCasted.select(\"deadline\").count())\n",
    "\n",
    "// dfCasted.groupBy(\"state_changed_at\").count.orderBy($\"count\".desc).show(100)\n",
    "// dfCasted.groupBy(\"backers_count\").count.orderBy($\"count\".desc).show(100)\n",
    "// dfCasted.select(\"goal\", \"final_status\").show(30)\n",
    "// dfCasted.groupBy(\"country\", \"currency\").count.orderBy($\"count\".desc).show(50)\n",
    "\n",
    "// Cleaning à faire: \n",
    "// Only keep rows with \"True\" or \"False\" in disable_communication\n",
    "// drop disable_communication\n",
    "// drop rows where regex or different from the main countries (after\n",
    "// trying to fill with currency stage later)\n",
    "\n",
    "// same than above with the country culumn\n",
    "// dropduplicates in id column --done\n",
    "// filter rows where state_changed_at null\n",
    "// infer country from / currency if country is null (befre dropping countries)\n",
    "// US -> US , GB ->GB, CA->CA, AU-AU, NL->NL\n",
    "// "
   ]
  },
  {
   "cell_type": "code",
   "execution_count": 128,
   "metadata": {},
   "outputs": [
    {
     "name": "stdout",
     "output_type": "stream",
     "text": [
      "+--------------------+-----+------------+\n",
      "|                name| goal|final_status|\n",
      "+--------------------+-----+------------+\n",
      "|\"\"\"\"\"\"\"\"\"\"\"\"\"\"\"\"\"...| 5000|           0|\n",
      "|Anatomy of a Cred...|30000|           0|\n",
      "|Gnash Open Source...| 5000|           0|\n",
      "|Metaphysical Arch...| 2000|           0|\n",
      "|Help Me Finish My...| 1600|           0|\n",
      "+--------------------+-----+------------+\n",
      "only showing top 5 rows\n",
      "\n",
      "+-------+--------------------+--------+\n",
      "|country|            keywords|currency|\n",
      "+-------+--------------------+--------+\n",
      "|     US|lostles-at-tinys-...|     USD|\n",
      "|     US|anatomy-of-a-cred...|     USD|\n",
      "|     US|gnash-open-source...|     USD|\n",
      "|     US|metaphysical-arch...|     USD|\n",
      "|     US|help-me-finish-my...|     USD|\n",
      "+-------+--------------------+--------+\n",
      "only showing top 5 rows\n",
      "\n",
      "+----------+----------+-----------+\n",
      "|  deadline|created_at|launched_at|\n",
      "+----------+----------+-----------+\n",
      "|1244264400|1241415164| 1241480901|\n",
      "|1245026160|1241829376| 1242056094|\n",
      "|1247607960|1240955180| 1242161838|\n",
      "|1248486180|1242179009| 1242234027|\n",
      "|1249077600|1244830579| 1244840030|\n",
      "+----------+----------+-----------+\n",
      "only showing top 5 rows\n",
      "\n"
     ]
    },
    {
     "data": {
      "text/plain": [
       "dfClean: org.apache.spark.sql.DataFrame = [project_id: string, name: string ... 9 more fields]\n"
      ]
     },
     "execution_count": 128,
     "metadata": {},
     "output_type": "execute_result"
    }
   ],
   "source": [
    "val dfClean:DataFrame = dfCasted\n",
    "    .dropDuplicates(\"deadline\")\n",
    "    .filter(!isnull($\"state_changed_at\"))\n",
    "    .withColumn(\"country\",when($\"country\" === \"False\",$\"currency\").otherwise($\"country\"))\n",
    "    .filter(($\"disable_communication\"===\"True\") || ($\"disable_communication\"===\"False\"))\n",
    "    .drop(\"disable_communication\")\n",
    "    .filter($\"country\" rlike \".{2}\")\n",
    "    .filter($\"currency\" rlike \".{3}\")\n",
    "    .drop(\"backers_count\",\"state_changed_at\")\n",
    "\n",
    "dfClean\n",
    "    .select(\"name\",\"goal\",\"final_status\")\n",
    "    .show(n)\n",
    "\n",
    "dfClean\n",
    "    .select(\"country\",\"keywords\",\"currency\")\n",
    "    .show(n)\n",
    "\n",
    "dfClean\n",
    "    .select(\"deadline\",\"created_at\",\"launched_at\")\n",
    "    .show(n)\n",
    "\n",
    "// df.filter($\"country\" === \"False\")\n",
    "//   .groupBy(\"currency\")\n",
    "//   .count\n",
    "//   .orderBy($\"count\".desc)\n",
    "//   .show(50)"
   ]
  },
  {
   "cell_type": "code",
   "execution_count": null,
   "metadata": {},
   "outputs": [],
   "source": [
    "// Important:  col equivalent to $"
   ]
  },
  {
   "cell_type": "code",
   "execution_count": 14,
   "metadata": {},
   "outputs": [
    {
     "data": {
      "text/plain": [
       "df2: org.apache.spark.sql.DataFrame = [project_id: string, name: string ... 11 more fields]\n"
      ]
     },
     "execution_count": 14,
     "metadata": {},
     "output_type": "execute_result"
    }
   ],
   "source": [
    "// Solution proposée\n",
    "\n",
    "// def cleanCountry(country: String, currency: String): String = {\n",
    "//   if (country == \"False\")\n",
    "//     currency\n",
    "//   else\n",
    "//     country\n",
    "// }\n",
    "\n",
    "// def cleanCurrency(currency: String): String = {\n",
    "//   if (currency != null && currency.length != 3)\n",
    "//     null\n",
    "//   else\n",
    "//     currency\n",
    "// }\n",
    "\n",
    "// val cleanCountryUdf = udf(cleanCountry _)\n",
    "// val cleanCurrencyUdf = udf(cleanCurrency _)\n",
    "\n",
    "// val dfCountry: DataFrame = dfNoFutur\n",
    "//   .withColumn(\"country2\", cleanCountryUdf($\"country\", $\"currency\"))\n",
    "//   .withColumn(\"currency2\", cleanCurrencyUdf($\"currency\"))\n",
    "//   .drop(\"country\", \"currency\")\n",
    "\n",
    "// // ou encore, en utilisant sql.functions.when:\n",
    "// dfNoFutur\n",
    "//   .withColumn(\"country2\", when($\"country\" === \"False\", $\"currency\").otherwise($\"country\"))\n",
    "//   .withColumn(\"currency2\", when($\"country\".isNotNull && length($\"currency\") =!= 3, null).otherwise($\"currency\"))\n",
    "//   .drop(\"country\", \"currency\")"
   ]
  },
  {
   "cell_type": "markdown",
   "metadata": {},
   "source": []
  },
  {
   "cell_type": "code",
   "execution_count": 224,
   "metadata": {},
   "outputs": [
    {
     "data": {
      "text/plain": [
       "df2: org.apache.spark.sql.DataFrame = [project_id: string, name: string ... 8 more fields]\n",
       "df3: org.apache.spark.sql.DataFrame = [project_id: string, name: string ... 9 more fields]\n",
       "res196: Array[String] = Array(project_id, name, desc, goal, keywords, country, currency, final_status, days_campaign, hours_prepa, text)\n"
      ]
     },
     "execution_count": 224,
     "metadata": {},
     "output_type": "execute_result"
    }
   ],
   "source": [
    "val df2:DataFrame = dfClean\n",
    "    .withColumn(\"days_campaign\",datediff(from_unixtime($\"deadline\"),from_unixtime($\"launched_at\")))\n",
    "    .withColumn(\"hours_prepa\",(($\"launched_at\"-$\"created_at\")/60).cast(\"Int\"))\n",
    "    .drop(\"launched_at\",\"deadline\",\"created_at\")\n",
    "    .withColumn(\"name\",lower($\"name\"))\n",
    "    .withColumn(\"desc\",lower($\"desc\"))\n",
    "    .withColumn(\"keywords\",lower($\"keywords\"))\n",
    "    \n",
    "\n",
    "val df3:DataFrame = df2\n",
    "    .withColumn(\"text\",concat($\"name\",lit(\" \"),$\"desc\",lit(\" \"),$\"keywords\"))\n",
    "    .withColumn(\"days_campaign\",when(isnull($\"days_campaign\"),-1).otherwise($\"days_campaign\"))\n",
    "    .withColumn(\"hours_prepa\",when(isnull($\"hours_prepa\"),-1).otherwise($\"hours_prepa\"))\n",
    "    .withColumn(\"goal\",when(isnull($\"goal\"),-1).otherwise($\"goal\"))\n",
    "    .withColumn(\"country\",when(isnull($\"country\"),\" \").otherwise($\"country\"))\n",
    "    .withColumn(\"currency\",when(isnull($\"currency\"),\" \").otherwise($\"currency\"))\n",
    "\n",
    "df3.columns"
   ]
  },
  {
   "cell_type": "code",
   "execution_count": 226,
   "metadata": {
    "scrolled": false
   },
   "outputs": [
    {
     "name": "stdout",
     "output_type": "stream",
     "text": [
      "+--------------------+-----+------------+\n",
      "|                name| goal|final_status|\n",
      "+--------------------+-----+------------+\n",
      "|\"\"\"\"\"\"\"\"\"\"\"\"\"\"\"\"\"...| 5000|           0|\n",
      "|anatomy of a cred...|30000|           0|\n",
      "|gnash open source...| 5000|           0|\n",
      "|metaphysical arch...| 2000|           0|\n",
      "|help me finish my...| 1600|           0|\n",
      "+--------------------+-----+------------+\n",
      "only showing top 5 rows\n",
      "\n",
      "+-------+--------------------+--------+\n",
      "|country|            keywords|currency|\n",
      "+-------+--------------------+--------+\n",
      "|     US|lostles-at-tinys-...|     USD|\n",
      "|     US|anatomy-of-a-cred...|     USD|\n",
      "|     US|gnash-open-source...|     USD|\n",
      "|     US|metaphysical-arch...|     USD|\n",
      "|     US|help-me-finish-my...|     USD|\n",
      "+-------+--------------------+--------+\n",
      "only showing top 5 rows\n",
      "\n",
      "+-------------+-----------+--------------------+\n",
      "|days_campaign|hours_prepa|                text|\n",
      "+-------------+-----------+--------------------+\n",
      "|           32|       1095|\"\"\"\"\"\"\"\"\"\"\"\"\"\"\"\"\"...|\n",
      "|           35|       3778|anatomy of a cred...|\n",
      "|           63|      20110|gnash open source...|\n",
      "|           73|        916|metaphysical arch...|\n",
      "|           50|        157|help me finish my...|\n",
      "+-------------+-----------+--------------------+\n",
      "only showing top 5 rows\n",
      "\n"
     ]
    }
   ],
   "source": [
    "df3\n",
    "    .select(\"name\",\"goal\",\"final_status\")\n",
    "    .show(n)\n",
    "\n",
    "df3\n",
    "    .select(\"country\",\"keywords\",\"currency\")\n",
    "    .show(n)\n",
    "\n",
    "\n",
    "df3\n",
    "    .select(\"days_campaign\",\"hours_prepa\",\"text\")\n",
    "    .show(n)"
   ]
  },
  {
   "cell_type": "code",
   "execution_count": 229,
   "metadata": {},
   "outputs": [],
   "source": [
    "df3.write.parquet(\"/home/jorge/Documents/Git/spark_project_kickstarter_2019_2020/cleanData.parquet\")"
   ]
  },
  {
   "cell_type": "code",
   "execution_count": null,
   "metadata": {},
   "outputs": [],
   "source": []
  },
  {
   "cell_type": "code",
   "execution_count": null,
   "metadata": {},
   "outputs": [],
   "source": []
  },
  {
   "cell_type": "code",
   "execution_count": 195,
   "metadata": {},
   "outputs": [
    {
     "name": "stdout",
     "output_type": "stream",
     "text": [
      "+--------------------+---+\n",
      "|                  _1| _2|\n",
      "+--------------------+---+\n",
      "|[A compendium of ...|132|\n",
      "|[Real life storie...|129|\n",
      "|[A blend of Melod...| 89|\n",
      "|[feature-film-som...| 54|\n",
      "|[steve-sabos-come...| 52|\n",
      "|[dont-hang-up-on-...| 52|\n",
      "|[dont-trust-your-...| 52|\n",
      "|[the-nashville-se...| 52|\n",
      "|[hannuka-story-th...| 52|\n",
      "|[bring-mary-mcdon...| 52|\n",
      "|[i-speak-fluent-m...| 52|\n",
      "|[if-the-world-was...| 52|\n",
      "|[sexy-krazy-raw-a...| 52|\n",
      "|[promote-validate...| 52|\n",
      "|[ice-will-reveal-...| 52|\n",
      "|[the-swirly-twirl...| 52|\n",
      "|[randys-vision-fo...| 52|\n",
      "|[faith-struggle-v...| 52|\n",
      "|[umeos-the-21st-c...| 52|\n",
      "|[intimacy-with-tr...| 52|\n",
      "|[the-bowhunter-a-...| 52|\n",
      "|[sexisgoodtv-web-...| 52|\n",
      "|[ms-groundhog-ms-...| 52|\n",
      "|[the-next-golden-...| 52|\n",
      "|[going-home-what-...| 52|\n",
      "|[chadd-thomas-unf...| 52|\n",
      "|[jason-blum-weste...| 52|\n",
      "|[in-the-grass-a-s...| 52|\n",
      "|[no-pride-no-sham...| 52|\n",
      "|[way-up-in-vermon...| 52|\n",
      "|[together-alone-t...| 52|\n",
      "|[the-foxhole-an-a...| 52|\n",
      "|[esp-intuition-an...| 52|\n",
      "|[up-until-now-rec...| 52|\n",
      "|[sketches-in-time...| 52|\n",
      "|[line-edge-and-fo...| 52|\n",
      "|[good-job-thanks-...| 51|\n",
      "|[the-voice-of-cou...| 51|\n",
      "|[fire-fox-in-radi...| 51|\n",
      "|[seven-zero-eight...| 51|\n",
      "|[hard-lick-sports...| 51|\n",
      "|[instead-of-sleep...| 51|\n",
      "|[home-is-where-th...| 51|\n",
      "|[kuya-ko-my-big-b...| 51|\n",
      "|[il-fazzoletto-an...| 51|\n",
      "|[derek-v-the-jour...| 50|\n",
      "|[smile-its-not-th...| 50|\n",
      "|[my-village-my-lo...| 50|\n",
      "|[jenny-macdonalds...| 49|\n",
      "|[st-francis-moham...| 49|\n",
      "|[center-ice-brewi...| 49|\n",
      "|[majestys-ep-king...| 49|\n",
      "|[here-without-art...| 49|\n",
      "|[1st-solo-cd-girl...| 48|\n",
      "|[improve-the-comm...| 48|\n",
      "|[nadjah-nicoles-d...| 47|\n",
      "|[mile-high-a-hila...| 47|\n",
      "|[we-the-network-i...| 46|\n",
      "|[help-me-fund-my-...| 45|\n",
      "|[dave-afdahl-clif...| 44|\n",
      "|[jack-chaps-dog-d...| 43|\n",
      "|[landslide-erotic...| 42|\n",
      "|[fight-life-boxin...| 42|\n",
      "|[bobby-lynchs-deb...| 41|\n",
      "|[meow-meow-maulan...| 41|\n",
      "|[undo-undo-undone...| 40|\n",
      "|[joe-neary-from-l...| 39|\n",
      "|[the-most-loved-a...| 38|\n",
      "|[elf-tears-war-ma...| 37|\n",
      "|[the-123-with-jam...| 37|\n",
      "|[luna-the-lone-wo...| 34|\n",
      "|[all-is-good-then...| 34|\n",
      "|[noah-clean-priso...| 32|\n",
      "|[welcome-to-not-m...| 23|\n",
      "|[the-aric-audio-m...| 21|\n",
      "|[rofl-metaphor-56...| 21|\n",
      "|           [70000.0]|  9|\n",
      "|           [20000.0]|  9|\n",
      "|            [1000.0]|  8|\n",
      "|            [1500.0]|  8|\n",
      "|            [5000.0]|  8|\n",
      "|            [2500.0]|  8|\n",
      "|             [False]|  7|\n",
      "|             [False]|  7|\n",
      "|             [False]|  7|\n",
      "|             [False]|  7|\n",
      "|             [False]|  7|\n",
      "|             [False]|  7|\n",
      "|             [False]|  7|\n",
      "|             [False]|  7|\n",
      "|             [False]|  7|\n",
      "|             [False]|  7|\n",
      "|             [False]|  7|\n",
      "|             [False]|  7|\n",
      "|             [False]|  7|\n",
      "|             [False]|  7|\n",
      "|             [False]|  7|\n",
      "|             [False]|  7|\n",
      "|             [False]|  7|\n",
      "|             [False]|  7|\n",
      "+--------------------+---+\n",
      "only showing top 100 rows\n",
      "\n"
     ]
    }
   ],
   "source": [
    "df.select(\"country\").map(line => (line.toString(),line.toString.length())).orderBy($\"_2\".desc).show(100)"
   ]
  }
 ],
 "metadata": {
  "kernelspec": {
   "display_name": "spylon-kernel",
   "language": "scala",
   "name": "spylon-kernel"
  },
  "language_info": {
   "codemirror_mode": "text/x-scala",
   "file_extension": ".scala",
   "help_links": [
    {
     "text": "MetaKernel Magics",
     "url": "https://metakernel.readthedocs.io/en/latest/source/README.html"
    }
   ],
   "mimetype": "text/x-scala",
   "name": "scala",
   "pygments_lexer": "scala",
   "version": "0.4.1"
  }
 },
 "nbformat": 4,
 "nbformat_minor": 2
}
